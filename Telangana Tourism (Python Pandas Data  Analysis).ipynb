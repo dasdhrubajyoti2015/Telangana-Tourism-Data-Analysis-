{
 "cells": [
  {
   "cell_type": "markdown",
   "id": "845ad0e2",
   "metadata": {},
   "source": [
    "# Data Analysis in Pandas(Telangana Tourism Dataset)"
   ]
  },
  {
   "cell_type": "markdown",
   "id": "783a0db1",
   "metadata": {},
   "source": [
    "Created by:Dhrubajyoti Das"
   ]
  },
  {
   "cell_type": "code",
   "execution_count": 1,
   "id": "2516c853",
   "metadata": {},
   "outputs": [],
   "source": [
    "import pandas as pd\n",
    "import numpy as np\n",
    "import matplotlib.pyplot as plt"
   ]
  },
  {
   "cell_type": "markdown",
   "id": "27b4f88b",
   "metadata": {},
   "source": [
    "# PROBLEM STATEMENT:Telangana is one of India’s leading states and has published its tourism data under its open data policy.The task is to find the patterns in the given data, do additional research, and give data-informed recommendations to the Telangana government which can be used to increase their revenue by improving administrative operations."
   ]
  },
  {
   "cell_type": "markdown",
   "id": "b2670093",
   "metadata": {},
   "source": [
    "# Merging domestic files"
   ]
  },
  {
   "cell_type": "code",
   "execution_count": 2,
   "id": "adb412d1",
   "metadata": {},
   "outputs": [],
   "source": [
    "df_domestic_visitors2016 = pd.read_csv('domestic_visitors/domestic_visitors_2016.csv')\n",
    "df_domestic_visitors2017 = pd.read_csv('domestic_visitors/domestic_visitors_2017.csv')\n",
    "df_domestic_visitors2018 = pd.read_csv('domestic_visitors/domestic_visitors_2018.csv')\n",
    "df_domestic_visitors2019 = pd.read_csv('domestic_visitors/domestic_visitors_2019.csv')"
   ]
  },
  {
   "cell_type": "code",
   "execution_count": 3,
   "id": "59edb83e",
   "metadata": {},
   "outputs": [],
   "source": [
    "domestic=pd.concat([df_domestic_visitors2016,df_domestic_visitors2017,df_domestic_visitors2018,df_domestic_visitors2019])"
   ]
  },
  {
   "cell_type": "code",
   "execution_count": 4,
   "id": "12c24d73",
   "metadata": {},
   "outputs": [
    {
     "data": {
      "text/plain": [
       "(1512, 5)"
      ]
     },
     "execution_count": 4,
     "metadata": {},
     "output_type": "execute_result"
    }
   ],
   "source": [
    "domestic.shape"
   ]
  },
  {
   "cell_type": "markdown",
   "id": "98575d32",
   "metadata": {},
   "source": [
    "# Merging foreign files"
   ]
  },
  {
   "cell_type": "code",
   "execution_count": 5,
   "id": "7dc7a032",
   "metadata": {},
   "outputs": [],
   "source": [
    "df_foreign_visitors2016 = pd.read_csv('foreign_visitors/foreign_visitors_2016.csv')\n",
    "df_foreign_visitors2017 = pd.read_csv('foreign_visitors/foreign_visitors_2017.csv')\n",
    "df_foreign_visitors2018 = pd.read_csv('foreign_visitors/foreign_visitors_2018.csv')\n",
    "df_foreign_visitors2019 = pd.read_csv('foreign_visitors/foreign_visitors_2019.csv')"
   ]
  },
  {
   "cell_type": "code",
   "execution_count": 6,
   "id": "78c0acdd",
   "metadata": {},
   "outputs": [],
   "source": [
    "foreign=pd.concat([df_foreign_visitors2016,df_foreign_visitors2017,df_foreign_visitors2018,df_foreign_visitors2019])"
   ]
  },
  {
   "cell_type": "code",
   "execution_count": 7,
   "id": "fbc12bb0",
   "metadata": {},
   "outputs": [
    {
     "data": {
      "text/plain": [
       "(1512, 5)"
      ]
     },
     "execution_count": 7,
     "metadata": {},
     "output_type": "execute_result"
    }
   ],
   "source": [
    "foreign.shape"
   ]
  },
  {
   "cell_type": "markdown",
   "id": "322d52fc",
   "metadata": {},
   "source": [
    "# Data cleaning(Domestic)"
   ]
  },
  {
   "cell_type": "code",
   "execution_count": 8,
   "id": "c342ec12",
   "metadata": {},
   "outputs": [
    {
     "name": "stdout",
     "output_type": "stream",
     "text": [
      "<class 'pandas.core.frame.DataFrame'>\n",
      "Int64Index: 1512 entries, 0 to 395\n",
      "Data columns (total 5 columns):\n",
      " #   Column    Non-Null Count  Dtype \n",
      "---  ------    --------------  ----- \n",
      " 0   district  1512 non-null   object\n",
      " 1   date      1512 non-null   object\n",
      " 2   month     1512 non-null   object\n",
      " 3   year      1512 non-null   int64 \n",
      " 4   visitors  1482 non-null   object\n",
      "dtypes: int64(1), object(4)\n",
      "memory usage: 70.9+ KB\n"
     ]
    }
   ],
   "source": [
    "domestic.info()"
   ]
  },
  {
   "cell_type": "code",
   "execution_count": 9,
   "id": "7aaf1c2a",
   "metadata": {},
   "outputs": [
    {
     "data": {
      "text/plain": [
       "district     0\n",
       "date         0\n",
       "month        0\n",
       "year         0\n",
       "visitors    30\n",
       "dtype: int64"
      ]
     },
     "execution_count": 9,
     "metadata": {},
     "output_type": "execute_result"
    }
   ],
   "source": [
    "domestic.isnull().sum()"
   ]
  },
  {
   "cell_type": "code",
   "execution_count": 10,
   "id": "82bc333b",
   "metadata": {},
   "outputs": [
    {
     "data": {
      "text/plain": [
       "array(['792136', '937820', '582946', ..., '381860', '365990', '477635'],\n",
       "      dtype=object)"
      ]
     },
     "execution_count": 10,
     "metadata": {},
     "output_type": "execute_result"
    }
   ],
   "source": [
    "domestic[\"visitors\"].unique()"
   ]
  },
  {
   "cell_type": "code",
   "execution_count": 11,
   "id": "8c4baf12",
   "metadata": {},
   "outputs": [
    {
     "data": {
      "text/html": [
       "<div>\n",
       "<style scoped>\n",
       "    .dataframe tbody tr th:only-of-type {\n",
       "        vertical-align: middle;\n",
       "    }\n",
       "\n",
       "    .dataframe tbody tr th {\n",
       "        vertical-align: top;\n",
       "    }\n",
       "\n",
       "    .dataframe thead th {\n",
       "        text-align: right;\n",
       "    }\n",
       "</style>\n",
       "<table border=\"1\" class=\"dataframe\">\n",
       "  <thead>\n",
       "    <tr style=\"text-align: right;\">\n",
       "      <th></th>\n",
       "      <th>district</th>\n",
       "      <th>date</th>\n",
       "      <th>month</th>\n",
       "      <th>year</th>\n",
       "      <th>visitors</th>\n",
       "    </tr>\n",
       "  </thead>\n",
       "  <tbody>\n",
       "    <tr>\n",
       "      <th>12</th>\n",
       "      <td>Bhadradri Kothagudem</td>\n",
       "      <td>01-01-2016</td>\n",
       "      <td>January</td>\n",
       "      <td>2016</td>\n",
       "      <td></td>\n",
       "    </tr>\n",
       "    <tr>\n",
       "      <th>13</th>\n",
       "      <td>Bhadradri Kothagudem</td>\n",
       "      <td>01-02-2016</td>\n",
       "      <td>February</td>\n",
       "      <td>2016</td>\n",
       "      <td></td>\n",
       "    </tr>\n",
       "    <tr>\n",
       "      <th>14</th>\n",
       "      <td>Bhadradri Kothagudem</td>\n",
       "      <td>01-03-2016</td>\n",
       "      <td>March</td>\n",
       "      <td>2016</td>\n",
       "      <td></td>\n",
       "    </tr>\n",
       "    <tr>\n",
       "      <th>15</th>\n",
       "      <td>Bhadradri Kothagudem</td>\n",
       "      <td>01-04-2016</td>\n",
       "      <td>April</td>\n",
       "      <td>2016</td>\n",
       "      <td></td>\n",
       "    </tr>\n",
       "    <tr>\n",
       "      <th>16</th>\n",
       "      <td>Bhadradri Kothagudem</td>\n",
       "      <td>01-05-2016</td>\n",
       "      <td>May</td>\n",
       "      <td>2016</td>\n",
       "      <td></td>\n",
       "    </tr>\n",
       "    <tr>\n",
       "      <th>...</th>\n",
       "      <td>...</td>\n",
       "      <td>...</td>\n",
       "      <td>...</td>\n",
       "      <td>...</td>\n",
       "      <td>...</td>\n",
       "    </tr>\n",
       "    <tr>\n",
       "      <th>343</th>\n",
       "      <td>Vikarabad</td>\n",
       "      <td>01-08-2019</td>\n",
       "      <td>August</td>\n",
       "      <td>2019</td>\n",
       "      <td></td>\n",
       "    </tr>\n",
       "    <tr>\n",
       "      <th>344</th>\n",
       "      <td>Vikarabad</td>\n",
       "      <td>01-09-2019</td>\n",
       "      <td>September</td>\n",
       "      <td>2019</td>\n",
       "      <td></td>\n",
       "    </tr>\n",
       "    <tr>\n",
       "      <th>345</th>\n",
       "      <td>Vikarabad</td>\n",
       "      <td>01-10-2019</td>\n",
       "      <td>October</td>\n",
       "      <td>2019</td>\n",
       "      <td></td>\n",
       "    </tr>\n",
       "    <tr>\n",
       "      <th>346</th>\n",
       "      <td>Vikarabad</td>\n",
       "      <td>01-11-2019</td>\n",
       "      <td>November</td>\n",
       "      <td>2019</td>\n",
       "      <td></td>\n",
       "    </tr>\n",
       "    <tr>\n",
       "      <th>347</th>\n",
       "      <td>Vikarabad</td>\n",
       "      <td>01-12-2019</td>\n",
       "      <td>December</td>\n",
       "      <td>2019</td>\n",
       "      <td></td>\n",
       "    </tr>\n",
       "  </tbody>\n",
       "</table>\n",
       "<p>315 rows × 5 columns</p>\n",
       "</div>"
      ],
      "text/plain": [
       "                  district        date      month  year visitors\n",
       "12   Bhadradri Kothagudem   01-01-2016    January  2016         \n",
       "13   Bhadradri Kothagudem   01-02-2016   February  2016         \n",
       "14   Bhadradri Kothagudem   01-03-2016      March  2016         \n",
       "15   Bhadradri Kothagudem   01-04-2016      April  2016         \n",
       "16   Bhadradri Kothagudem   01-05-2016        May  2016         \n",
       "..                     ...         ...        ...   ...      ...\n",
       "343              Vikarabad  01-08-2019     August  2019         \n",
       "344              Vikarabad  01-09-2019  September  2019         \n",
       "345              Vikarabad  01-10-2019    October  2019         \n",
       "346              Vikarabad  01-11-2019   November  2019         \n",
       "347              Vikarabad  01-12-2019   December  2019         \n",
       "\n",
       "[315 rows x 5 columns]"
      ]
     },
     "execution_count": 11,
     "metadata": {},
     "output_type": "execute_result"
    }
   ],
   "source": [
    "domestic[domestic[\"visitors\"]==' ']"
   ]
  },
  {
   "cell_type": "code",
   "execution_count": 12,
   "id": "089fbd2b",
   "metadata": {},
   "outputs": [],
   "source": [
    "domestic[\"visitors\"].replace([\" \",np.nan], 0, inplace=True)\n",
    "domestic[\"visitors\"]=domestic[\"visitors\"].astype(float)"
   ]
  },
  {
   "cell_type": "markdown",
   "id": "c25728c3",
   "metadata": {},
   "source": [
    "# Data cleaning(Foreign)"
   ]
  },
  {
   "cell_type": "code",
   "execution_count": 13,
   "id": "82122897",
   "metadata": {},
   "outputs": [
    {
     "name": "stdout",
     "output_type": "stream",
     "text": [
      "<class 'pandas.core.frame.DataFrame'>\n",
      "Int64Index: 1512 entries, 0 to 395\n",
      "Data columns (total 5 columns):\n",
      " #   Column    Non-Null Count  Dtype \n",
      "---  ------    --------------  ----- \n",
      " 0   district  1512 non-null   object\n",
      " 1   date      1512 non-null   object\n",
      " 2   month     1512 non-null   object\n",
      " 3   year      1512 non-null   int64 \n",
      " 4   visitors  1512 non-null   object\n",
      "dtypes: int64(1), object(4)\n",
      "memory usage: 70.9+ KB\n"
     ]
    }
   ],
   "source": [
    "foreign.info()"
   ]
  },
  {
   "cell_type": "code",
   "execution_count": 14,
   "id": "7831e2ae",
   "metadata": {},
   "outputs": [
    {
     "data": {
      "text/plain": [
       "array(['2', '0', '4', ' ', '15865', '29646', '13019', '8402', '8522',\n",
       "       '10284', '17142', '12842', '9397', '12808', '8084', '17620', '24',\n",
       "       '22', '40', '13', '21', '11', '123', '126', '103', '75', '58',\n",
       "       '68', '63', '86', '74', '37', '29', '26', '8', '10', '459', '391',\n",
       "       '230', '39', '82', '88', '53', '102', '118', '108', '97', '132',\n",
       "       '5', '3', '19286', '18097', '13875', '12996', '12983', '12486',\n",
       "       '18144', '16985', '27856', '26368', '29170', '38933', '85', '38',\n",
       "       '35', '36', '42', '45', '56', '55', '57', '20', '16', '32', '31',\n",
       "       '34', '25', '41', '43', '44', '54', '47', '49', '19', '23', '18',\n",
       "       '17', '28', '235', '242', '238', '209', '211', '194', '116', '219',\n",
       "       '225', '236', '255', '250', '35379', '30414', '27535', '20830',\n",
       "       '21554', '24677', '17456', '31217', '22809', '30072', '23487',\n",
       "       '29358', '50', '60', '70', '6', '15', '52', '14', '30', '1', '150',\n",
       "       '185', '160', '140', '130', '135', '145', '170', '187', '35920',\n",
       "       '25621', '21929', '18267', '17317', '20077', '27874', '22725',\n",
       "       '34018', '28706', '32762', '34084', '65', '7', '175', '200', '190',\n",
       "       '195', '240', '220', '210'], dtype=object)"
      ]
     },
     "execution_count": 14,
     "metadata": {},
     "output_type": "execute_result"
    }
   ],
   "source": [
    "foreign[\"visitors\"].unique()"
   ]
  },
  {
   "cell_type": "code",
   "execution_count": 15,
   "id": "283c80af",
   "metadata": {},
   "outputs": [],
   "source": [
    "foreign[\"visitors\"].replace([\" \",np.nan], 0, inplace=True)\n",
    "foreign[\"visitors\"]=foreign[\"visitors\"].astype(float)"
   ]
  },
  {
   "cell_type": "markdown",
   "id": "2e256f44",
   "metadata": {},
   "source": [
    "# Combining both datasets"
   ]
  },
  {
   "cell_type": "code",
   "execution_count": 16,
   "id": "80f44cb6",
   "metadata": {},
   "outputs": [],
   "source": [
    "combined=pd.merge(domestic,foreign,on=['district','date'])"
   ]
  },
  {
   "cell_type": "code",
   "execution_count": 17,
   "id": "b127a907",
   "metadata": {},
   "outputs": [],
   "source": [
    "combined=combined[['district','date','month_x','year_x','visitors_x','visitors_y']]"
   ]
  },
  {
   "cell_type": "code",
   "execution_count": 18,
   "id": "c8c6acad",
   "metadata": {},
   "outputs": [],
   "source": [
    "combined.rename(columns={'month_x':'month','year_x':'year','visitors_x':'domestic_visitors','visitors_y':'foreign_visitors'},inplace=True)"
   ]
  },
  {
   "cell_type": "code",
   "execution_count": 19,
   "id": "c997c26b",
   "metadata": {},
   "outputs": [
    {
     "data": {
      "text/html": [
       "<div>\n",
       "<style scoped>\n",
       "    .dataframe tbody tr th:only-of-type {\n",
       "        vertical-align: middle;\n",
       "    }\n",
       "\n",
       "    .dataframe tbody tr th {\n",
       "        vertical-align: top;\n",
       "    }\n",
       "\n",
       "    .dataframe thead th {\n",
       "        text-align: right;\n",
       "    }\n",
       "</style>\n",
       "<table border=\"1\" class=\"dataframe\">\n",
       "  <thead>\n",
       "    <tr style=\"text-align: right;\">\n",
       "      <th></th>\n",
       "      <th>district</th>\n",
       "      <th>date</th>\n",
       "      <th>month</th>\n",
       "      <th>year</th>\n",
       "      <th>domestic_visitors</th>\n",
       "      <th>foreign_visitors</th>\n",
       "    </tr>\n",
       "  </thead>\n",
       "  <tbody>\n",
       "    <tr>\n",
       "      <th>0</th>\n",
       "      <td>Adilabad</td>\n",
       "      <td>01-01-2016</td>\n",
       "      <td>January</td>\n",
       "      <td>2016</td>\n",
       "      <td>792136.0</td>\n",
       "      <td>2.0</td>\n",
       "    </tr>\n",
       "    <tr>\n",
       "      <th>1</th>\n",
       "      <td>Adilabad</td>\n",
       "      <td>01-02-2016</td>\n",
       "      <td>February</td>\n",
       "      <td>2016</td>\n",
       "      <td>937820.0</td>\n",
       "      <td>0.0</td>\n",
       "    </tr>\n",
       "    <tr>\n",
       "      <th>2</th>\n",
       "      <td>Adilabad</td>\n",
       "      <td>01-03-2016</td>\n",
       "      <td>March</td>\n",
       "      <td>2016</td>\n",
       "      <td>582946.0</td>\n",
       "      <td>2.0</td>\n",
       "    </tr>\n",
       "    <tr>\n",
       "      <th>3</th>\n",
       "      <td>Adilabad</td>\n",
       "      <td>01-04-2016</td>\n",
       "      <td>April</td>\n",
       "      <td>2016</td>\n",
       "      <td>341948.0</td>\n",
       "      <td>0.0</td>\n",
       "    </tr>\n",
       "    <tr>\n",
       "      <th>4</th>\n",
       "      <td>Adilabad</td>\n",
       "      <td>01-05-2016</td>\n",
       "      <td>May</td>\n",
       "      <td>2016</td>\n",
       "      <td>252887.0</td>\n",
       "      <td>0.0</td>\n",
       "    </tr>\n",
       "  </tbody>\n",
       "</table>\n",
       "</div>"
      ],
      "text/plain": [
       "   district        date     month  year  domestic_visitors  foreign_visitors\n",
       "0  Adilabad  01-01-2016   January  2016           792136.0               2.0\n",
       "1  Adilabad  01-02-2016  February  2016           937820.0               0.0\n",
       "2  Adilabad  01-03-2016     March  2016           582946.0               2.0\n",
       "3  Adilabad  01-04-2016     April  2016           341948.0               0.0\n",
       "4  Adilabad  01-05-2016       May  2016           252887.0               0.0"
      ]
     },
     "execution_count": 19,
     "metadata": {},
     "output_type": "execute_result"
    }
   ],
   "source": [
    "combined.head()"
   ]
  },
  {
   "cell_type": "markdown",
   "id": "fd06a3f6",
   "metadata": {},
   "source": [
    "# Insights"
   ]
  },
  {
   "cell_type": "markdown",
   "id": "e64f888f",
   "metadata": {},
   "source": [
    "# 1.Top 10 districts having the highest number of domestic visitors between 2016 to 2019"
   ]
  },
  {
   "cell_type": "code",
   "execution_count": 20,
   "id": "2a32f75a",
   "metadata": {},
   "outputs": [
    {
     "data": {
      "text/plain": [
       "<AxesSubplot: title={'center': 'Top 10 districts for domestic visitors'}, xlabel='district'>"
      ]
     },
     "execution_count": 20,
     "metadata": {},
     "output_type": "execute_result"
    },
    {
     "data": {
      "image/png": "[encoded data removed]",
      "text/plain": [
       "<Figure size 640x480 with 1 Axes>"
      ]
     },
     "metadata": {},
     "output_type": "display_data"
    }
   ],
   "source": [
    "g=combined.groupby('district')['domestic_visitors'].sum()\n",
    "Top_10=g.sort_values(ascending=False).head(10)\n",
    "Top_10.plot(kind='bar',title=\"Top 10 districts for domestic visitors\")"
   ]
  },
  {
   "cell_type": "markdown",
   "id": "d88f425a",
   "metadata": {},
   "source": [
    "# 2.Top 10 districts having the highest number of foreign visitors between 2016 to 2019"
   ]
  },
  {
   "cell_type": "code",
   "execution_count": 21,
   "id": "3a3a3c38",
   "metadata": {},
   "outputs": [
    {
     "data": {
      "text/plain": [
       "district\n",
       "Hyderabad                   1044898.0\n",
       "Warangal (Urban)               8821.0\n",
       "Mahbubnagar                    2282.0\n",
       "Jayashankar Bhoopalpally       1252.0\n",
       "Jogulamba Gadwal                945.0\n",
       "Nagarkurnool                    761.0\n",
       "Mulugu                          575.0\n",
       "Warangal (Rural)                306.0\n",
       "Adilabad                         32.0\n",
       "Mancherial                       10.0\n",
       "Name: foreign_visitors, dtype: float64"
      ]
     },
     "execution_count": 21,
     "metadata": {},
     "output_type": "execute_result"
    }
   ],
   "source": [
    "g=combined.groupby('district')['foreign_visitors'].sum()\n",
    "Top_10=g.sort_values(ascending=False).head(10)\n",
    "Top_10"
   ]
  },
  {
   "cell_type": "markdown",
   "id": "fe7251ff",
   "metadata": {},
   "source": [
    "# 3.Top 3 districts based on CAGR of visitors(DOMESTIC)"
   ]
  },
  {
   "cell_type": "code",
   "execution_count": 22,
   "id": "335b02bc",
   "metadata": {},
   "outputs": [
    {
     "name": "stderr",
     "output_type": "stream",
     "text": [
      "C:\\Users\\dell\\AppData\\Local\\Temp\\ipykernel_6244\\1750747821.py:8: RuntimeWarning: invalid value encountered in scalar divide\n",
      "  df_2016and2019['District CAGR(%)']=df_2016and2019.apply(lambda x:(pow(x['VISITORS_2019']/x['VISITORS_2016'],1/3)-1)*100,axis=1)\n"
     ]
    }
   ],
   "source": [
    "g=domestic.groupby(['year','district'])['visitors'].sum()\n",
    "df_2016=g.loc[2016]\n",
    "df_2019=g.loc[2019]\n",
    "df_2016.drop(['Suryapet','Komaram Bheem Asifabad'],inplace=True,axis=0)\n",
    "df_2019.drop(['Mulugu','Narayanapet','Komaram Bheem Asifabad'],inplace=True,axis=0)\n",
    "df_2016and2019=pd.merge(df_2016,df_2019,on='district')\n",
    "df_2016and2019.rename(columns = {'visitors_x':'VISITORS_2016', 'visitors_y':'VISITORS_2019'}, inplace = True)\n",
    "df_2016and2019['District CAGR(%)']=df_2016and2019.apply(lambda x:(pow(x['VISITORS_2019']/x['VISITORS_2016'],1/3)-1)*100,axis=1)"
   ]
  },
  {
   "cell_type": "code",
   "execution_count": 23,
   "id": "21e54b0e",
   "metadata": {},
   "outputs": [
    {
     "data": {
      "text/html": [
       "<div>\n",
       "<style scoped>\n",
       "    .dataframe tbody tr th:only-of-type {\n",
       "        vertical-align: middle;\n",
       "    }\n",
       "\n",
       "    .dataframe tbody tr th {\n",
       "        vertical-align: top;\n",
       "    }\n",
       "\n",
       "    .dataframe thead th {\n",
       "        text-align: right;\n",
       "    }\n",
       "</style>\n",
       "<table border=\"1\" class=\"dataframe\">\n",
       "  <thead>\n",
       "    <tr style=\"text-align: right;\">\n",
       "      <th></th>\n",
       "      <th>VISITORS_2016</th>\n",
       "      <th>VISITORS_2019</th>\n",
       "      <th>District CAGR(%)</th>\n",
       "    </tr>\n",
       "    <tr>\n",
       "      <th>district</th>\n",
       "      <th></th>\n",
       "      <th></th>\n",
       "      <th></th>\n",
       "    </tr>\n",
       "  </thead>\n",
       "  <tbody>\n",
       "    <tr>\n",
       "      <th>Adilabad</th>\n",
       "      <td>5075557.0</td>\n",
       "      <td>775895.0</td>\n",
       "      <td>-46.530464</td>\n",
       "    </tr>\n",
       "    <tr>\n",
       "      <th>Bhadradri Kothagudem</th>\n",
       "      <td>889030.0</td>\n",
       "      <td>12817737.0</td>\n",
       "      <td>143.387524</td>\n",
       "    </tr>\n",
       "    <tr>\n",
       "      <th>Hyderabad</th>\n",
       "      <td>23394705.0</td>\n",
       "      <td>13802362.0</td>\n",
       "      <td>-16.128976</td>\n",
       "    </tr>\n",
       "    <tr>\n",
       "      <th>Jagtial</th>\n",
       "      <td>623077.0</td>\n",
       "      <td>3086115.0</td>\n",
       "      <td>70.460384</td>\n",
       "    </tr>\n",
       "    <tr>\n",
       "      <th>Jangaon</th>\n",
       "      <td>40660.0</td>\n",
       "      <td>328890.0</td>\n",
       "      <td>100.737155</td>\n",
       "    </tr>\n",
       "  </tbody>\n",
       "</table>\n",
       "</div>"
      ],
      "text/plain": [
       "                       VISITORS_2016  VISITORS_2019  District CAGR(%)\n",
       "district                                                             \n",
       "Adilabad                   5075557.0       775895.0        -46.530464\n",
       "Bhadradri Kothagudem        889030.0     12817737.0        143.387524\n",
       "Hyderabad                 23394705.0     13802362.0        -16.128976\n",
       "Jagtial                     623077.0      3086115.0         70.460384\n",
       "Jangaon                      40660.0       328890.0        100.737155"
      ]
     },
     "execution_count": 23,
     "metadata": {},
     "output_type": "execute_result"
    }
   ],
   "source": [
    "df_2016and2019.head()"
   ]
  },
  {
   "cell_type": "code",
   "execution_count": 24,
   "id": "2b26ea4d",
   "metadata": {},
   "outputs": [],
   "source": [
    "Top3CAGR_Domestic=df_2016and2019.sort_values('District CAGR(%)',ascending=False).head(3)\n"
   ]
  },
  {
   "cell_type": "code",
   "execution_count": 25,
   "id": "1e8abc22",
   "metadata": {},
   "outputs": [
    {
     "data": {
      "image/png": "[encoded data removed]",
      "text/plain": [
       "<Figure size 600x300 with 1 Axes>"
      ]
     },
     "metadata": {},
     "output_type": "display_data"
    }
   ],
   "source": [
    "fig = plt.figure(figsize = (6, 3))\n",
    "plt.bar(Top3CAGR_Domestic.index,Top3CAGR_Domestic['District CAGR(%)'],color='green')\n",
    "plt.xlabel(\"Districts\")\n",
    "plt.ylabel(\"CAGR%\")\n",
    "plt.title(\"CAGR of Domestic Visitors in districts from  2016-2019\")\n",
    "plt.show()"
   ]
  },
  {
   "cell_type": "markdown",
   "id": "6139ccd4",
   "metadata": {},
   "source": [
    "# 4.Top 3 districts based on CAGR of visitors(FOREIGN)\n"
   ]
  },
  {
   "cell_type": "code",
   "execution_count": 26,
   "id": "02660dab",
   "metadata": {},
   "outputs": [
    {
     "name": "stderr",
     "output_type": "stream",
     "text": [
      "C:\\Users\\dell\\AppData\\Local\\Temp\\ipykernel_6244\\317429990.py:7: RuntimeWarning: invalid value encountered in scalar divide\n",
      "  df_2016and2019['District CAGR(%)']=df_2016and2019.apply(lambda x:(pow(x['VISITORS_2019']/x['VISITORS_2016'],1/3)-1)*100,axis=1)\n",
      "C:\\Users\\dell\\AppData\\Local\\Temp\\ipykernel_6244\\317429990.py:7: RuntimeWarning: divide by zero encountered in scalar divide\n",
      "  df_2016and2019['District CAGR(%)']=df_2016and2019.apply(lambda x:(pow(x['VISITORS_2019']/x['VISITORS_2016'],1/3)-1)*100,axis=1)\n"
     ]
    }
   ],
   "source": [
    "g=foreign.groupby(['year','district'])['visitors'].sum()\n",
    "df_2016=g.loc[2016]\n",
    "df_2019=g.loc[2019]\n",
    "df_2019.drop(['Mulugu','Narayanpet'],inplace=True,axis=0)\n",
    "df_2016and2019=pd.merge(df_2016,df_2019,on='district')\n",
    "df_2016and2019.rename(columns = {'visitors_x':'VISITORS_2016', 'visitors_y':'VISITORS_2019'}, inplace = True)\n",
    "df_2016and2019['District CAGR(%)']=df_2016and2019.apply(lambda x:(pow(x['VISITORS_2019']/x['VISITORS_2016'],1/3)-1)*100,axis=1)"
   ]
  },
  {
   "cell_type": "code",
   "execution_count": 27,
   "id": "47126eb1",
   "metadata": {},
   "outputs": [],
   "source": [
    "Top3CAGR_Foreign=df_2016and2019.sort_values('District CAGR(%)',ascending=False)\n",
    "\n",
    "Top3CAGR_Foreign.replace([np.inf, -np.inf], np.nan, inplace=True)\n",
    "Top3CAGR_Foreign.dropna(inplace=True)\n",
    "Top3CAGR_Foreign=Top3CAGR_Foreign.head(3)"
   ]
  },
  {
   "cell_type": "code",
   "execution_count": 28,
   "id": "12b06e6e",
   "metadata": {},
   "outputs": [
    {
     "data": {
      "image/png": "[encoded data removed]",
      "text/plain": [
       "<Figure size 600x300 with 1 Axes>"
      ]
     },
     "metadata": {},
     "output_type": "display_data"
    }
   ],
   "source": [
    "fig = plt.figure(figsize = (6, 3))\n",
    "plt.bar(Top3CAGR_Foreign.index,Top3CAGR_Foreign['District CAGR(%)'],color='Blue')\n",
    "plt.xlabel(\"Districts\")\n",
    "plt.ylabel(\"CAGR%\")\n",
    "plt.title(\"CAGR of Foreign Visitors in districts from  2016-2019\")\n",
    "plt.show()"
   ]
  },
  {
   "cell_type": "markdown",
   "id": "474c3b04",
   "metadata": {},
   "source": [
    "# 5.Bottom 3 districts based on CAGR of visitors(DOMESTIC)"
   ]
  },
  {
   "cell_type": "code",
   "execution_count": 29,
   "id": "f399f408",
   "metadata": {},
   "outputs": [],
   "source": [
    "Bottom3CAGR_Domestic=df_2016and2019.sort_values('District CAGR(%)',ascending=True).head(3)"
   ]
  },
  {
   "cell_type": "code",
   "execution_count": 30,
   "id": "3066f868",
   "metadata": {},
   "outputs": [
    {
     "data": {
      "image/png": "[encoded data removed]",
      "text/plain": [
       "<Figure size 600x300 with 1 Axes>"
      ]
     },
     "metadata": {},
     "output_type": "display_data"
    }
   ],
   "source": [
    "fig = plt.figure(figsize = (6, 3))\n",
    "plt.bar(Bottom3CAGR_Domestic.index,Bottom3CAGR_Domestic['District CAGR(%)'],color='red')\n",
    "plt.xlabel(\"Districts\")\n",
    "plt.ylabel(\"CAGR%\")\n",
    "plt.title(\"Lowest 3 CAGR of Domestic Visitors in districts from  2016-2019\")\n",
    "plt.show()"
   ]
  },
  {
   "cell_type": "markdown",
   "id": "33337a75",
   "metadata": {},
   "source": [
    "# 6.Bottom 3 districts based on CAGR of visitors(FOREIGN)"
   ]
  },
  {
   "cell_type": "code",
   "execution_count": 31,
   "id": "fe71b5f4",
   "metadata": {},
   "outputs": [],
   "source": [
    "Bottom3CAGR_Foreign=df_2016and2019.sort_values('District CAGR(%)',ascending=True)\n",
    "Bottom3CAGR_Foreign.replace([np.inf, -np.inf], np.nan, inplace=True)\n",
    "Bottom3CAGR_Foreign.dropna(inplace=True)\n",
    "Bottom3CAGR_Foreign=Bottom3CAGR_Foreign.head(3)"
   ]
  },
  {
   "cell_type": "code",
   "execution_count": 32,
   "id": "ab664cf1",
   "metadata": {},
   "outputs": [
    {
     "data": {
      "image/png": "[encoded data removed]",
      "text/plain": [
       "<Figure size 600x300 with 1 Axes>"
      ]
     },
     "metadata": {},
     "output_type": "display_data"
    }
   ],
   "source": [
    "fig = plt.figure(figsize = (6, 3))\n",
    "plt.bar(Bottom3CAGR_Foreign.index,Bottom3CAGR_Foreign['District CAGR(%)'],color='red')\n",
    "plt.xlabel(\"Districts\")\n",
    "plt.ylabel(\"CAGR%\")\n",
    "plt.title(\"Bottom 3 CAGR of Foreign Visitors in districts from  2016-2019\")\n",
    "plt.show()"
   ]
  },
  {
   "cell_type": "markdown",
   "id": "f73bfe98",
   "metadata": {},
   "source": [
    "# 7.What are the peak and low season months for Hyderabad based on Data from 2016 to 2019\n"
   ]
  },
  {
   "cell_type": "code",
   "execution_count": 33,
   "id": "7ff72b20",
   "metadata": {},
   "outputs": [
    {
     "data": {
      "text/html": [
       "<div>\n",
       "<style scoped>\n",
       "    .dataframe tbody tr th:only-of-type {\n",
       "        vertical-align: middle;\n",
       "    }\n",
       "\n",
       "    .dataframe tbody tr th {\n",
       "        vertical-align: top;\n",
       "    }\n",
       "\n",
       "    .dataframe thead th {\n",
       "        text-align: right;\n",
       "    }\n",
       "</style>\n",
       "<table border=\"1\" class=\"dataframe\">\n",
       "  <thead>\n",
       "    <tr style=\"text-align: right;\">\n",
       "      <th></th>\n",
       "      <th>month</th>\n",
       "      <th>domestic_visitors</th>\n",
       "      <th>monthnumber</th>\n",
       "    </tr>\n",
       "  </thead>\n",
       "  <tbody>\n",
       "    <tr>\n",
       "      <th>3</th>\n",
       "      <td>January</td>\n",
       "      <td>6452101.0</td>\n",
       "      <td>1</td>\n",
       "    </tr>\n",
       "    <tr>\n",
       "      <th>11</th>\n",
       "      <td>February</td>\n",
       "      <td>5014430.0</td>\n",
       "      <td>2</td>\n",
       "    </tr>\n",
       "    <tr>\n",
       "      <th>10</th>\n",
       "      <td>March</td>\n",
       "      <td>5227626.0</td>\n",
       "      <td>3</td>\n",
       "    </tr>\n",
       "    <tr>\n",
       "      <th>4</th>\n",
       "      <td>April</td>\n",
       "      <td>6126839.0</td>\n",
       "      <td>4</td>\n",
       "    </tr>\n",
       "    <tr>\n",
       "      <th>5</th>\n",
       "      <td>May</td>\n",
       "      <td>6049214.0</td>\n",
       "      <td>5</td>\n",
       "    </tr>\n",
       "    <tr>\n",
       "      <th>0</th>\n",
       "      <td>June</td>\n",
       "      <td>16897783.0</td>\n",
       "      <td>6</td>\n",
       "    </tr>\n",
       "    <tr>\n",
       "      <th>8</th>\n",
       "      <td>July</td>\n",
       "      <td>5552527.0</td>\n",
       "      <td>7</td>\n",
       "    </tr>\n",
       "    <tr>\n",
       "      <th>6</th>\n",
       "      <td>August</td>\n",
       "      <td>5750967.0</td>\n",
       "      <td>8</td>\n",
       "    </tr>\n",
       "    <tr>\n",
       "      <th>9</th>\n",
       "      <td>September</td>\n",
       "      <td>5312283.0</td>\n",
       "      <td>9</td>\n",
       "    </tr>\n",
       "    <tr>\n",
       "      <th>2</th>\n",
       "      <td>October</td>\n",
       "      <td>6552397.0</td>\n",
       "      <td>10</td>\n",
       "    </tr>\n",
       "    <tr>\n",
       "      <th>7</th>\n",
       "      <td>November</td>\n",
       "      <td>5626156.0</td>\n",
       "      <td>11</td>\n",
       "    </tr>\n",
       "    <tr>\n",
       "      <th>1</th>\n",
       "      <td>December</td>\n",
       "      <td>9338637.0</td>\n",
       "      <td>12</td>\n",
       "    </tr>\n",
       "  </tbody>\n",
       "</table>\n",
       "</div>"
      ],
      "text/plain": [
       "        month  domestic_visitors  monthnumber\n",
       "3     January          6452101.0            1\n",
       "11   February          5014430.0            2\n",
       "10      March          5227626.0            3\n",
       "4       April          6126839.0            4\n",
       "5         May          6049214.0            5\n",
       "0        June         16897783.0            6\n",
       "8        July          5552527.0            7\n",
       "6      August          5750967.0            8\n",
       "9   September          5312283.0            9\n",
       "2     October          6552397.0           10\n",
       "7    November          5626156.0           11\n",
       "1    December          9338637.0           12"
      ]
     },
     "execution_count": 33,
     "metadata": {},
     "output_type": "execute_result"
    }
   ],
   "source": [
    "hyd=combined[combined.district=='Hyderabad']\n",
    "hyd_domestic=hyd.groupby('month')['domestic_visitors'].sum().sort_values(ascending=False)\n",
    "hyd_domestic=hyd_domestic.reset_index()\n",
    "hyd_domestic['monthnumber']=pd.to_datetime(hyd_domestic['month'],format='%B')\n",
    "hyd_domestic['monthnumber']=hyd_domestic['monthnumber'].dt.month\n",
    "hyd_domestic=hyd_domestic.sort_values(by=['monthnumber'])\n",
    "hyd_domestic.domestic_visitors=round(hyd_domestic.domestic_visitors,2)\n",
    "hyd_domestic"
   ]
  },
  {
   "cell_type": "code",
   "execution_count": 34,
   "id": "1ea3798a",
   "metadata": {},
   "outputs": [
    {
     "data": {
      "image/png": "[encoded data removed]",
      "text/plain": [
       "<Figure size 1000x800 with 1 Axes>"
      ]
     },
     "metadata": {},
     "output_type": "display_data"
    }
   ],
   "source": [
    "fig = plt.figure(figsize = (10, 8))\n",
    "plt.plot(hyd_domestic.month,hyd_domestic.domestic_visitors,color='violet')\n",
    "plt.xlabel(\"Date\")\n",
    "plt.ylabel(\"Visitors\")\n",
    "plt.xticks(rotation=90)\n",
    "plt.title(\"Domestic Visitors by Date from 2016-2019  in Hyderabad\")\n",
    "plt.show()"
   ]
  },
  {
   "cell_type": "code",
   "execution_count": 35,
   "id": "c4ee832d",
   "metadata": {},
   "outputs": [
    {
     "data": {
      "text/html": [
       "<div>\n",
       "<style scoped>\n",
       "    .dataframe tbody tr th:only-of-type {\n",
       "        vertical-align: middle;\n",
       "    }\n",
       "\n",
       "    .dataframe tbody tr th {\n",
       "        vertical-align: top;\n",
       "    }\n",
       "\n",
       "    .dataframe thead th {\n",
       "        text-align: right;\n",
       "    }\n",
       "</style>\n",
       "<table border=\"1\" class=\"dataframe\">\n",
       "  <thead>\n",
       "    <tr style=\"text-align: right;\">\n",
       "      <th></th>\n",
       "      <th>month</th>\n",
       "      <th>foreign_visitors</th>\n",
       "      <th>monthnumber</th>\n",
       "    </tr>\n",
       "  </thead>\n",
       "  <tbody>\n",
       "    <tr>\n",
       "      <th>1</th>\n",
       "      <td>January</td>\n",
       "      <td>865.02</td>\n",
       "      <td>1</td>\n",
       "    </tr>\n",
       "    <tr>\n",
       "      <th>2</th>\n",
       "      <td>February</td>\n",
       "      <td>842.18</td>\n",
       "      <td>2</td>\n",
       "    </tr>\n",
       "    <tr>\n",
       "      <th>8</th>\n",
       "      <td>March</td>\n",
       "      <td>621.40</td>\n",
       "      <td>3</td>\n",
       "    </tr>\n",
       "    <tr>\n",
       "      <th>10</th>\n",
       "      <td>April</td>\n",
       "      <td>492.17</td>\n",
       "      <td>4</td>\n",
       "    </tr>\n",
       "    <tr>\n",
       "      <th>11</th>\n",
       "      <td>May</td>\n",
       "      <td>491.23</td>\n",
       "      <td>5</td>\n",
       "    </tr>\n",
       "    <tr>\n",
       "      <th>9</th>\n",
       "      <td>June</td>\n",
       "      <td>548.64</td>\n",
       "      <td>6</td>\n",
       "    </tr>\n",
       "    <tr>\n",
       "      <th>7</th>\n",
       "      <td>July</td>\n",
       "      <td>653.08</td>\n",
       "      <td>7</td>\n",
       "    </tr>\n",
       "    <tr>\n",
       "      <th>6</th>\n",
       "      <td>August</td>\n",
       "      <td>680.13</td>\n",
       "      <td>8</td>\n",
       "    </tr>\n",
       "    <tr>\n",
       "      <th>4</th>\n",
       "      <td>September</td>\n",
       "      <td>762.96</td>\n",
       "      <td>9</td>\n",
       "    </tr>\n",
       "    <tr>\n",
       "      <th>3</th>\n",
       "      <td>October</td>\n",
       "      <td>793.03</td>\n",
       "      <td>10</td>\n",
       "    </tr>\n",
       "    <tr>\n",
       "      <th>5</th>\n",
       "      <td>November</td>\n",
       "      <td>759.41</td>\n",
       "      <td>11</td>\n",
       "    </tr>\n",
       "    <tr>\n",
       "      <th>0</th>\n",
       "      <td>December</td>\n",
       "      <td>969.87</td>\n",
       "      <td>12</td>\n",
       "    </tr>\n",
       "  </tbody>\n",
       "</table>\n",
       "</div>"
      ],
      "text/plain": [
       "        month  foreign_visitors  monthnumber\n",
       "1     January            865.02            1\n",
       "2    February            842.18            2\n",
       "8       March            621.40            3\n",
       "10      April            492.17            4\n",
       "11        May            491.23            5\n",
       "9        June            548.64            6\n",
       "7        July            653.08            7\n",
       "6      August            680.13            8\n",
       "4   September            762.96            9\n",
       "3     October            793.03           10\n",
       "5    November            759.41           11\n",
       "0    December            969.87           12"
      ]
     },
     "execution_count": 35,
     "metadata": {},
     "output_type": "execute_result"
    }
   ],
   "source": [
    "hyd=combined[combined.district=='Hyderabad']\n",
    "hyd_foreign=combined.groupby('month')['foreign_visitors'].mean().sort_values(ascending=False)\n",
    "hyd_foreign=hyd_foreign.reset_index()\n",
    "hyd_foreign['monthnumber']=pd.to_datetime(hyd_foreign['month'],format='%B')\n",
    "hyd_foreign['monthnumber']=hyd_foreign['monthnumber'].dt.month\n",
    "hyd_foreign=hyd_foreign.sort_values(by=['monthnumber'])\n",
    "hyd_foreign.foreign_visitors=round(hyd_foreign.foreign_visitors,2)\n",
    "hyd_foreign"
   ]
  },
  {
   "cell_type": "code",
   "execution_count": 36,
   "id": "2e2f6a1b",
   "metadata": {},
   "outputs": [
    {
     "data": {
      "image/png": "[encoded data removed]",
      "text/plain": [
       "<Figure size 1000x800 with 1 Axes>"
      ]
     },
     "metadata": {},
     "output_type": "display_data"
    }
   ],
   "source": [
    "fig = plt.figure(figsize = (10, 8))\n",
    "plt.plot(hyd_foreign.month,hyd_foreign.foreign_visitors,color='orange')\n",
    "plt.xlabel(\"Date\")\n",
    "plt.ylabel(\"Visitors\")\n",
    "plt.xticks(rotation=90)\n",
    "plt.title(\"Foreign Visitors by Date from 2016-2019  in Hyderabad\")\n",
    "plt.show()"
   ]
  },
  {
   "cell_type": "markdown",
   "id": "a5421d5b",
   "metadata": {},
   "source": [
    "# 8.Show top and bottom 3 districts with high domestic to  foreign tourist ratio"
   ]
  },
  {
   "cell_type": "code",
   "execution_count": 37,
   "id": "60642f96",
   "metadata": {},
   "outputs": [
    {
     "data": {
      "text/plain": [
       "array(['Adilabad', 'Bhadradri Kothagudem ', 'Hyderabad', 'Jagtial ',\n",
       "       'Jangaon ', 'Jayashankar Bhoopalpally', 'Jogulamba Gadwal ',\n",
       "       'Kamareddy ', 'Karimnagar ', 'Khammam', 'Komaram Bheem Asifabad',\n",
       "       'Mahabubabad ', 'Mahbubnagar', 'Mancherial', 'Medak ', 'Medchal ',\n",
       "       'Mulugu', 'Nagarkurnool ', 'Nalgonda', 'Nirmal', 'Nizamabad',\n",
       "       'Peddapalli', 'Rajanna Sircilla ', 'Ranga Reddy', 'Sangareddy ',\n",
       "       'Siddipet', 'Suryapet', 'Vikarabad', 'Wanaparthy ',\n",
       "       'Warangal (Rural)', 'Warangal (Urban)', 'Yadadri Bhongir'],\n",
       "      dtype=object)"
      ]
     },
     "execution_count": 37,
     "metadata": {},
     "output_type": "execute_result"
    }
   ],
   "source": [
    "x=combined.groupby('district')['domestic_visitors'].sum()\n",
    "p=x.reset_index()\n",
    "p.district.unique()"
   ]
  },
  {
   "cell_type": "code",
   "execution_count": 38,
   "id": "65378533",
   "metadata": {},
   "outputs": [
    {
     "data": {
      "text/plain": [
       "array(['Adilabad', 'Bhadradri Kothagudem ', 'Hyderabad', 'Jagtial ',\n",
       "       'Jangaon ', 'Jayashankar Bhoopalpally', 'Jogulamba Gadwal ',\n",
       "       'Kamareddy ', 'Karimnagar ', 'Khammam', 'Komaram Bheem Asifabad',\n",
       "       'Mahabubabad ', 'Mahbubnagar', 'Mancherial', 'Medak ', 'Medchal ',\n",
       "       'Mulugu', 'Nagarkurnool ', 'Nalgonda', 'Nirmal', 'Nizamabad',\n",
       "       'Peddapalli', 'Rajanna Sircilla ', 'Ranga Reddy', 'Sangareddy ',\n",
       "       'Siddipet', 'Suryapet', 'Vikarabad', 'Wanaparthy ',\n",
       "       'Warangal (Rural)', 'Warangal (Urban)', 'Yadadri Bhongir'],\n",
       "      dtype=object)"
      ]
     },
     "execution_count": 38,
     "metadata": {},
     "output_type": "execute_result"
    }
   ],
   "source": [
    "y=combined.groupby('district')['foreign_visitors'].sum()\n",
    "z=y.reset_index()\n",
    "z.district.unique()"
   ]
  },
  {
   "cell_type": "code",
   "execution_count": 39,
   "id": "a2d13b4a",
   "metadata": {},
   "outputs": [
    {
     "name": "stderr",
     "output_type": "stream",
     "text": [
      "C:\\Users\\dell\\AppData\\Local\\Temp\\ipykernel_6244\\3745927619.py:1: RuntimeWarning: divide by zero encountered in divide\n",
      "  w=x.values/y.values\n",
      "C:\\Users\\dell\\AppData\\Local\\Temp\\ipykernel_6244\\3745927619.py:1: RuntimeWarning: invalid value encountered in divide\n",
      "  w=x.values/y.values\n"
     ]
    }
   ],
   "source": [
    "w=x.values/y.values"
   ]
  },
  {
   "cell_type": "code",
   "execution_count": 40,
   "id": "e755a9ee",
   "metadata": {},
   "outputs": [
    {
     "data": {
      "text/html": [
       "<div>\n",
       "<style scoped>\n",
       "    .dataframe tbody tr th:only-of-type {\n",
       "        vertical-align: middle;\n",
       "    }\n",
       "\n",
       "    .dataframe tbody tr th {\n",
       "        vertical-align: top;\n",
       "    }\n",
       "\n",
       "    .dataframe thead th {\n",
       "        text-align: right;\n",
       "    }\n",
       "</style>\n",
       "<table border=\"1\" class=\"dataframe\">\n",
       "  <thead>\n",
       "    <tr style=\"text-align: right;\">\n",
       "      <th></th>\n",
       "      <th>district</th>\n",
       "      <th>domestic_to_foreign_ratio</th>\n",
       "    </tr>\n",
       "  </thead>\n",
       "  <tbody>\n",
       "    <tr>\n",
       "      <th>0</th>\n",
       "      <td>Adilabad</td>\n",
       "      <td>2.287992e+05</td>\n",
       "    </tr>\n",
       "    <tr>\n",
       "      <th>1</th>\n",
       "      <td>Bhadradri Kothagudem</td>\n",
       "      <td>inf</td>\n",
       "    </tr>\n",
       "    <tr>\n",
       "      <th>2</th>\n",
       "      <td>Hyderabad</td>\n",
       "      <td>8.029584e+01</td>\n",
       "    </tr>\n",
       "    <tr>\n",
       "      <th>3</th>\n",
       "      <td>Jagtial</td>\n",
       "      <td>inf</td>\n",
       "    </tr>\n",
       "    <tr>\n",
       "      <th>4</th>\n",
       "      <td>Jangaon</td>\n",
       "      <td>4.131400e+05</td>\n",
       "    </tr>\n",
       "  </tbody>\n",
       "</table>\n",
       "</div>"
      ],
      "text/plain": [
       "                district  domestic_to_foreign_ratio\n",
       "0               Adilabad               2.287992e+05\n",
       "1  Bhadradri Kothagudem                         inf\n",
       "2              Hyderabad               8.029584e+01\n",
       "3               Jagtial                         inf\n",
       "4               Jangaon                4.131400e+05"
      ]
     },
     "execution_count": 40,
     "metadata": {},
     "output_type": "execute_result"
    }
   ],
   "source": [
    "dtof_ratio=pd.DataFrame({'district':y.index,'domestic_to_foreign_ratio':w})\n",
    "dtof_ratio.head()"
   ]
  },
  {
   "cell_type": "code",
   "execution_count": 41,
   "id": "84976ec0",
   "metadata": {},
   "outputs": [
    {
     "data": {
      "text/html": [
       "<div>\n",
       "<style scoped>\n",
       "    .dataframe tbody tr th:only-of-type {\n",
       "        vertical-align: middle;\n",
       "    }\n",
       "\n",
       "    .dataframe tbody tr th {\n",
       "        vertical-align: top;\n",
       "    }\n",
       "\n",
       "    .dataframe thead th {\n",
       "        text-align: right;\n",
       "    }\n",
       "</style>\n",
       "<table border=\"1\" class=\"dataframe\">\n",
       "  <thead>\n",
       "    <tr style=\"text-align: right;\">\n",
       "      <th></th>\n",
       "      <th>district</th>\n",
       "      <th>domestic_to_foreign_ratio</th>\n",
       "    </tr>\n",
       "  </thead>\n",
       "  <tbody>\n",
       "    <tr>\n",
       "      <th>0</th>\n",
       "      <td>Adilabad</td>\n",
       "      <td>228799.22</td>\n",
       "    </tr>\n",
       "    <tr>\n",
       "      <th>2</th>\n",
       "      <td>Hyderabad</td>\n",
       "      <td>80.30</td>\n",
       "    </tr>\n",
       "    <tr>\n",
       "      <th>4</th>\n",
       "      <td>Jangaon</td>\n",
       "      <td>413140.00</td>\n",
       "    </tr>\n",
       "    <tr>\n",
       "      <th>5</th>\n",
       "      <td>Jayashankar Bhoopalpally</td>\n",
       "      <td>15681.20</td>\n",
       "    </tr>\n",
       "    <tr>\n",
       "      <th>6</th>\n",
       "      <td>Jogulamba Gadwal</td>\n",
       "      <td>7209.88</td>\n",
       "    </tr>\n",
       "  </tbody>\n",
       "</table>\n",
       "</div>"
      ],
      "text/plain": [
       "                   district  domestic_to_foreign_ratio\n",
       "0                  Adilabad                  228799.22\n",
       "2                 Hyderabad                      80.30\n",
       "4                  Jangaon                   413140.00\n",
       "5  Jayashankar Bhoopalpally                   15681.20\n",
       "6         Jogulamba Gadwal                     7209.88"
      ]
     },
     "execution_count": 41,
     "metadata": {},
     "output_type": "execute_result"
    }
   ],
   "source": [
    "dtof_ratio.replace([np.inf, -np.inf], np.nan, inplace=True)\n",
    "dtof_ratio.dropna(inplace=True)\n",
    "dtof_ratio['domestic_to_foreign_ratio']=dtof_ratio['domestic_to_foreign_ratio'].round(decimals=2)\n",
    "dtof_ratio.head()"
   ]
  },
  {
   "cell_type": "code",
   "execution_count": 42,
   "id": "dabfd089",
   "metadata": {},
   "outputs": [
    {
     "data": {
      "text/html": [
       "<div>\n",
       "<style scoped>\n",
       "    .dataframe tbody tr th:only-of-type {\n",
       "        vertical-align: middle;\n",
       "    }\n",
       "\n",
       "    .dataframe tbody tr th {\n",
       "        vertical-align: top;\n",
       "    }\n",
       "\n",
       "    .dataframe thead th {\n",
       "        text-align: right;\n",
       "    }\n",
       "</style>\n",
       "<table border=\"1\" class=\"dataframe\">\n",
       "  <thead>\n",
       "    <tr style=\"text-align: right;\">\n",
       "      <th></th>\n",
       "      <th>district</th>\n",
       "      <th>domestic_to_foreign_ratio</th>\n",
       "    </tr>\n",
       "  </thead>\n",
       "  <tbody>\n",
       "    <tr>\n",
       "      <th>19</th>\n",
       "      <td>Nirmal</td>\n",
       "      <td>6657898.00</td>\n",
       "    </tr>\n",
       "    <tr>\n",
       "      <th>4</th>\n",
       "      <td>Jangaon</td>\n",
       "      <td>413140.00</td>\n",
       "    </tr>\n",
       "    <tr>\n",
       "      <th>0</th>\n",
       "      <td>Adilabad</td>\n",
       "      <td>228799.22</td>\n",
       "    </tr>\n",
       "  </tbody>\n",
       "</table>\n",
       "</div>"
      ],
      "text/plain": [
       "    district  domestic_to_foreign_ratio\n",
       "19    Nirmal                 6657898.00\n",
       "4   Jangaon                   413140.00\n",
       "0   Adilabad                  228799.22"
      ]
     },
     "execution_count": 42,
     "metadata": {},
     "output_type": "execute_result"
    }
   ],
   "source": [
    "Top_3_dtofratio=dtof_ratio.sort_values('domestic_to_foreign_ratio',ascending=False)\n",
    "Top_3_dtofratio.head(3)"
   ]
  },
  {
   "cell_type": "code",
   "execution_count": 43,
   "id": "d42d530d",
   "metadata": {},
   "outputs": [
    {
     "data": {
      "text/html": [
       "<div>\n",
       "<style scoped>\n",
       "    .dataframe tbody tr th:only-of-type {\n",
       "        vertical-align: middle;\n",
       "    }\n",
       "\n",
       "    .dataframe tbody tr th {\n",
       "        vertical-align: top;\n",
       "    }\n",
       "\n",
       "    .dataframe thead th {\n",
       "        text-align: right;\n",
       "    }\n",
       "</style>\n",
       "<table border=\"1\" class=\"dataframe\">\n",
       "  <thead>\n",
       "    <tr style=\"text-align: right;\">\n",
       "      <th></th>\n",
       "      <th>district</th>\n",
       "      <th>domestic_to_foreign_ratio</th>\n",
       "    </tr>\n",
       "  </thead>\n",
       "  <tbody>\n",
       "    <tr>\n",
       "      <th>2</th>\n",
       "      <td>Hyderabad</td>\n",
       "      <td>80.30</td>\n",
       "    </tr>\n",
       "    <tr>\n",
       "      <th>29</th>\n",
       "      <td>Warangal (Rural)</td>\n",
       "      <td>2677.00</td>\n",
       "    </tr>\n",
       "    <tr>\n",
       "      <th>16</th>\n",
       "      <td>Mulugu</td>\n",
       "      <td>3164.87</td>\n",
       "    </tr>\n",
       "  </tbody>\n",
       "</table>\n",
       "</div>"
      ],
      "text/plain": [
       "            district  domestic_to_foreign_ratio\n",
       "2          Hyderabad                      80.30\n",
       "29  Warangal (Rural)                    2677.00\n",
       "16            Mulugu                    3164.87"
      ]
     },
     "execution_count": 43,
     "metadata": {},
     "output_type": "execute_result"
    }
   ],
   "source": [
    "Bottom_3_dtofratio=dtof_ratio.sort_values('domestic_to_foreign_ratio',ascending=True)\n",
    "Bottom_3_dtofratio.head(3)"
   ]
  },
  {
   "cell_type": "code",
   "execution_count": 44,
   "id": "48c8a16d",
   "metadata": {},
   "outputs": [],
   "source": [
    "combined.to_csv('combined.csv')"
   ]
  },
  {
   "cell_type": "code",
   "execution_count": null,
   "id": "0b553502",
   "metadata": {},
   "outputs": [],
   "source": []
  }
 ],
 "metadata": {
  "kernelspec": {
   "display_name": "Python 3 (ipykernel)",
   "language": "python",
   "name": "python3"
  },
  "language_info": {
   "codemirror_mode": {
    "name": "ipython",
    "version": 3
   },
   "file_extension": ".py",
   "mimetype": "text/x-python",
   "name": "python",
   "nbconvert_exporter": "python",
   "pygments_lexer": "ipython3",
   "version": "3.8.10"
  }
 },
 "nbformat": 4,
 "nbformat_minor": 5
}
